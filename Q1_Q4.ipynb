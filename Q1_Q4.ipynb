{
  "nbformat": 4,
  "nbformat_minor": 0,
  "metadata": {
    "colab": {
      "provenance": [],
      "include_colab_link": true
    },
    "kernelspec": {
      "name": "python3",
      "display_name": "Python 3"
    },
    "language_info": {
      "name": "python"
    }
  },
  "cells": [
    {
      "cell_type": "markdown",
      "metadata": {
        "id": "view-in-github",
        "colab_type": "text"
      },
      "source": [
        "<a href=\"https://colab.research.google.com/github/albordunos/AI_literacy/blob/main/Q1_Q4.ipynb\" target=\"_parent\"><img src=\"https://colab.research.google.com/assets/colab-badge.svg\" alt=\"Open In Colab\"/></a>"
      ]
    },
    {
      "cell_type": "markdown",
      "source": [],
      "metadata": {
        "id": "k5HywKZ90SUq"
      }
    },
    {
      "cell_type": "markdown",
      "source": [
        "#Расставить квартиль, источник: Scimagojr.com\n",
        "##Attribute the quartile, source: Scimagojr.com\n",
        "\n",
        "\n"
      ],
      "metadata": {
        "id": "RgsePVtv0UoG"
      }
    },
    {
      "cell_type": "code",
      "source": [
        "import pandas as pd\n",
        "\n",
        "# Загрузка данных с указанием пути к файлам\n",
        "# Load data specifying file paths\n",
        "journal_quartiles_path = \"/content/drive/MyDrive/AILab/scim.csv\"\n",
        "publications_path = \"/content/drive/MyDrive/AILab/ArtInLAIL.csv\"\n",
        "output_path = \"/content/drive/MyDrive/AILab/merged_AiLit.csv\"\n",
        "\n",
        "# Загрузка данных\n",
        "# Load data\n",
        "journal_quartiles = pd.read_csv(journal_quartiles_path, delimiter=';')\n",
        "publications = pd.read_csv(publications_path)\n",
        "\n",
        "# Проверка названий столбцов и структуры данных\n",
        "# Check column names and data structure\n",
        "print(\"Journal Quartiles Data Columns:\")\n",
        "print(journal_quartiles.columns)\n",
        "\n",
        "print(\"\\nJournal Quartiles Data:\")\n",
        "print(journal_quartiles.head())\n",
        "\n",
        "print(\"\\nPublications Data Columns:\")\n",
        "print(publications.columns)\n",
        "\n",
        "print(\"\\nPublications Data:\")\n",
        "print(publications.head())\n",
        "\n",
        "# Переименование столбцов для корректного объединения\n",
        "# Rename columns for correct merging\n",
        "journal_quartiles.rename(columns={'Title': 'Journal', 'SJR Best Quartile': 'Quartile'}, inplace=True)\n",
        "publications.rename(columns={'Название источника': 'Journal'}, inplace=True)\n",
        "\n",
        "# Проверка уникальности названий журналов в публикациях и в списке журналов\n",
        "# Check the uniqueness of journal names in publications and in the journal list\n",
        "print(\"\\nUnique Journal Names in Publications:\")\n",
        "print(len(publications['Journal'].unique()))\n",
        "\n",
        "print(\"\\nUnique Journal Names in Journal Quartiles:\")\n",
        "print(len(journal_quartiles['Journal'].unique()))\n",
        "\n",
        "# Объединение данных\n",
        "# Merge data\n",
        "merged_data = pd.merge(publications, journal_quartiles[['Journal', 'Quartile']], on='Journal', how='left')\n",
        "\n",
        "# Проверка количества строк до и после объединения\n",
        "# Check the number of rows before and after merging\n",
        "print(\"\\nNumber of Rows in Publications Data Before Merge:\")\n",
        "print(len(publications))\n",
        "\n",
        "print(\"\\nNumber of Rows in Merged Data After Merge:\")\n",
        "print(len(merged_data))\n",
        "\n",
        "# Строки без совпадений\n",
        "# Rows without matches\n",
        "missing_rows = publications[~publications['Journal'].isin(journal_quartiles['Journal'])]\n",
        "print(\"\\nNumber of Rows in Publications Data Without Matches in Journal Quartiles:\")\n",
        "print(len(missing_rows))\n",
        "\n",
        "# Сохранение объединенных данных в новый CSV файл\n",
        "# Save merged data into a new CSV file\n",
        "print(\"\\nSaving merged data to:\", output_path)\n",
        "merged_data.to_csv(output_path, index=False)\n",
        "print(\"File saved successfully.\")\n",
        "\n",
        "# Вывод объединенных данных для проверки\n",
        "# Display merged data for verification\n",
        "print(\"\\nMerged Data:\")\n",
        "print(merged_data.head())"
      ],
      "metadata": {
        "id": "AmB7DXvj0YvJ"
      },
      "execution_count": null,
      "outputs": []
    },
    {
      "cell_type": "code",
      "source": [],
      "metadata": {
        "id": "EpLgt3XG1gQ2"
      },
      "execution_count": null,
      "outputs": []
    }
  ]
}